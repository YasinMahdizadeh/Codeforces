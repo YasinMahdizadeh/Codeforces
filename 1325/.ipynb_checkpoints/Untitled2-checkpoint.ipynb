{
 "cells": [
  {
   "cell_type": "code",
   "execution_count": 48,
   "metadata": {},
   "outputs": [
    {
     "name": "stdout",
     "output_type": "stream",
     "text": [
      "6\n"
     ]
    }
   ],
   "source": [
    "n = int(input())\n",
    "edges = []\n",
    "degrees = [0]\n",
    "for i in range(n):\n",
    "    degrees.append(0)\n",
    "d3_vertex = 0"
   ]
  },
  {
   "cell_type": "code",
   "execution_count": 49,
   "metadata": {},
   "outputs": [],
   "source": [
    "output = []\n",
    "for i in range(n-1):\n",
    "    output.append(-1)\n",
    "    "
   ]
  },
  {
   "cell_type": "code",
   "execution_count": 50,
   "metadata": {},
   "outputs": [],
   "source": [
    "def d3():\n",
    "    for i in range(n+1):\n",
    "        if ( degrees[i] > 2 ):\n",
    "            print(degrees[i])\n",
    "            print(i)\n",
    "            d3_vertex = i\n",
    "            return True\n",
    "    return False\n",
    "    "
   ]
  },
  {
   "cell_type": "code",
   "execution_count": 51,
   "metadata": {},
   "outputs": [
    {
     "name": "stdout",
     "output_type": "stream",
     "text": [
      "1 2\n",
      "1 3\n",
      "2 4\n",
      "2 5\n",
      "5 6\n"
     ]
    }
   ],
   "source": [
    "for i in range (n-1):\n",
    "    inp = input().split()\n",
    "    inp = [int(i) for i in inp]\n",
    "    \n",
    "    inp.sort()\n",
    "    edges.append(inp)\n",
    "    \n",
    "    degrees[inp[0]]= degrees[inp[0]] +1\n",
    "    degrees[inp[1]]= degrees[inp[1]] +1"
   ]
  },
  {
   "cell_type": "code",
   "execution_count": 53,
   "metadata": {},
   "outputs": [
    {
     "name": "stdout",
     "output_type": "stream",
     "text": [
      "3\n",
      "2\n",
      "3\n",
      "2\n",
      "0\n"
     ]
    }
   ],
   "source": [
    "if d3():\n",
    "    print(d3_vertex)\n",
    "else:\n",
    "    for i in range(n-1):\n",
    "        print(i)"
   ]
  },
  {
   "cell_type": "code",
   "execution_count": null,
   "metadata": {},
   "outputs": [],
   "source": []
  }
 ],
 "metadata": {
  "kernelspec": {
   "display_name": "Python 3",
   "language": "python",
   "name": "python3"
  },
  "language_info": {
   "codemirror_mode": {
    "name": "ipython",
    "version": 3
   },
   "file_extension": ".py",
   "mimetype": "text/x-python",
   "name": "python",
   "nbconvert_exporter": "python",
   "pygments_lexer": "ipython3",
   "version": "3.6.9"
  }
 },
 "nbformat": 4,
 "nbformat_minor": 4
}
