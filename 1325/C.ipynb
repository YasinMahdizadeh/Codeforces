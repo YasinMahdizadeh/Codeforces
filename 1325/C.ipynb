{
 "cells": [
  {
   "cell_type": "code",
   "execution_count": 83,
   "metadata": {},
   "outputs": [
    {
     "name": "stdout",
     "output_type": "stream",
     "text": [
      "6\n"
     ]
    }
   ],
   "source": [
    "n = int(input())\n",
    "edges = []\n",
    "degrees = [0]\n",
    "for i in range(n):\n",
    "    degrees.append(0)\n"
   ]
  },
  {
   "cell_type": "code",
   "execution_count": 84,
   "metadata": {},
   "outputs": [],
   "source": [
    "output = []\n",
    "for i in range(n-1):\n",
    "    output.append(-1)\n",
    "    "
   ]
  },
  {
   "cell_type": "code",
   "execution_count": 85,
   "metadata": {},
   "outputs": [],
   "source": [
    "def d3():\n",
    "    d3_vertex = 0\n",
    "    for i in range(n+1):\n",
    "        if ( degrees[i] > 2 ):\n",
    "            print(i)\n",
    "            d3_vertex = i\n",
    "            print(d3_vertex,\"\\n\\n\")\n",
    "    return d3_vertex\n",
    "    "
   ]
  },
  {
   "cell_type": "code",
   "execution_count": 86,
   "metadata": {},
   "outputs": [
    {
     "name": "stdout",
     "output_type": "stream",
     "text": [
      "1 2\n",
      "1 3\n",
      "2 4\n",
      "2 5\n",
      "5 6\n"
     ]
    }
   ],
   "source": [
    "for i in range (n-1):\n",
    "    inp = input().split()\n",
    "    inp = [int(i) for i in inp]\n",
    "    \n",
    "    inp.sort()\n",
    "    edges.append(inp)\n",
    "    \n",
    "    degrees[inp[0]]= degrees[inp[0]] +1\n",
    "    degrees[inp[1]]= degrees[inp[1]] +1"
   ]
  },
  {
   "cell_type": "code",
   "execution_count": 91,
   "metadata": {},
   "outputs": [
    {
     "name": "stdout",
     "output_type": "stream",
     "text": [
      "2\n",
      "2 \n",
      "\n",
      "\n",
      "0\n",
      "3\n",
      "1\n",
      "2\n",
      "4\n"
     ]
    }
   ],
   "source": [
    "f = d3()\n",
    "if (f > 0):\n",
    "    u = 0;\n",
    "    for i in range(n-1):\n",
    "        if(edges[i][0]==f or edges[i][1]==f):\n",
    "            output[i] = u\n",
    "            u = u+1\n",
    "            \n",
    "    for i in range(n-1):\n",
    "        if(output[i]==-1):\n",
    "            output[i] = u\n",
    "            u = u+1     \n",
    "            \n",
    "    for i in range(n-1):\n",
    "        print(output[i])\n",
    "    \n",
    "else:\n",
    "    for i in range(n-1):\n",
    "        print(i)"
   ]
  },
  {
   "cell_type": "code",
   "execution_count": null,
   "metadata": {},
   "outputs": [],
   "source": []
  }
 ],
 "metadata": {
  "kernelspec": {
   "display_name": "Python 3",
   "language": "python",
   "name": "python3"
  },
  "language_info": {
   "codemirror_mode": {
    "name": "ipython",
    "version": 3
   },
   "file_extension": ".py",
   "mimetype": "text/x-python",
   "name": "python",
   "nbconvert_exporter": "python",
   "pygments_lexer": "ipython3",
   "version": "3.6.9"
  }
 },
 "nbformat": 4,
 "nbformat_minor": 4
}
